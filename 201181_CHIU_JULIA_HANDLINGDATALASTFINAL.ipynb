{
 "cells": [
  {
   "cell_type": "markdown",
   "id": "d6467c01",
   "metadata": {},
   "source": [
    "\n",
    "Problem 1: Social Media Relationships (9 points)\n",
    "Let us pretend that you are building a new app. Your app supports social media functionality, which means that users can have relationships with other users.\n",
    "\n",
    "There are two guidelines for describing relationships on this social media app:\n",
    "\n",
    "Any user can follow any other user.\n",
    "If two users follow each other, they are considered friends.\n",
    "Data about your users and their followers is stored in a dictionary that adheres to this structure:\n"
   ]
  },
  {
   "cell_type": "code",
   "execution_count": 1,
   "id": "4f1c5bfc",
   "metadata": {},
   "outputs": [],
   "source": [
    "# NON-INTERACTIVE CODE CELL. YOU MAY RUN THIS CELL, BUT DO NOT EDIT IT.\n",
    "# FOR DEMONSTRATION PURPOSES ONLY. DO NOT EDIT.\n",
    "\n",
    "social_graph = {\n",
    "    \"@bongolpoc\":{\"first_name\":\"Joselito\",\n",
    "                  \"last_name\":\"Olpoc\",\n",
    "                  \"following\":[\n",
    "                  ]\n",
    "    },\n",
    "    \"@joaquin\":  {\"first_name\":\"Joaquin\",\n",
    "                  \"last_name\":\"Gonzales\",\n",
    "                  \"following\":[\n",
    "                      \"@chums\",\"@jobenilagan\"\n",
    "                  ]\n",
    "    },\n",
    "    \"@chums\" : {\"first_name\":\"Matthew\",\n",
    "                \"last_name\":\"Uy\",\n",
    "                \"following\":[\n",
    "                    \"@bongolpoc\",\"@miketan\",\"@rudyang\",\"@joeilagan\"\n",
    "                ]\n",
    "    },\n",
    "    \"@jobenilagan\":{\"first_name\":\"Joben\",\n",
    "                   \"last_name\":\"Ilagan\",\n",
    "                   \"following\":[\n",
    "                    \"@eeebeee\",\"@joeilagan\",\"@chums\",\"@joaquin\"\n",
    "                   ]\n",
    "    },\n",
    "    \"@joeilagan\":{\"first_name\":\"Joe\",\n",
    "                  \"last_name\":\"Ilagan\",\n",
    "                  \"following\":[\n",
    "                    \"@eeebeee\",\"@jobenilagan\",\"@chums\"\n",
    "                  ]\n",
    "    },\n",
    "    \"@eeebeee\":  {\"first_name\":\"Elizabeth\",\n",
    "                  \"last_name\":\"Ilagan\",\n",
    "                  \"following\":[\n",
    "                    \"@jobenilagan\",\"@joeilagan\"\n",
    "                  ]\n",
    "    },\n",
    "}"
   ]
  },
  {
   "cell_type": "markdown",
   "id": "6bcb5c1c",
   "metadata": {},
   "source": [
    "Write a function called relationship_status that takes three positional arguments: (str) from_member, (str) to_member, and (dict) social_graph. The function should determine the relationship status of the first member to the second member based on the data stored in the social graph. The function should return one of these values depending on what is appropriate:\n",
    "\n",
    "\"follower\", if from_member follows to_member\n",
    "\"followed by\", if from_member is followed by to_member\n",
    "\"friends\", if from_member and to_member follow each other\n",
    "None if none of the above scenarios are applicable\n",
    "\n",
    "\n",
    "Specifications:\n",
    "from_member and to_member are user IDs (e.g. \"@jobenilagan\").\n",
    "social_graph is a dictionary that adheres to the specification demonstrated in the demo cell.\n"
   ]
  },
  {
   "cell_type": "code",
   "execution_count": 2,
   "id": "89b93d65",
   "metadata": {},
   "outputs": [
    {
     "name": "stdout",
     "output_type": "stream",
     "text": [
      "friends\n"
     ]
    }
   ],
   "source": [
    "# CODE CELL\n",
    "# PROBLEM 1\n",
    "\n",
    "def relationship_status(from_member, to_member, social_graph):\n",
    "    if from_member in social_graph[to_member][\"following\"] and to_member in social_graph[from_member][\"following\"]:\n",
    "        return 'friends'\n",
    "    elif from_member in social_graph[to_member][\"following\"]:\n",
    "        return \"followed by\"\n",
    "    elif to_member in social_graph[from_member][\"following\"]:\n",
    "        return \"follower\"\n",
    "    else:\n",
    "        return None\n",
    "print(relationship_status('@jobenilagan','@joeilagan',social_graph))"
   ]
  },
  {
   "cell_type": "markdown",
   "id": "061b3366",
   "metadata": {},
   "source": [
    "Problem 2: Tic Tac Toe (10 points)\n",
    "Tic Tac Toe is a common paper-and-pencil game. Players must attempt to successfully draw a straight line of their symbol across a grid. The player that does this first is considered the winner.\n",
    "\n",
    "Here are several possible board configurations:"
   ]
  },
  {
   "cell_type": "code",
   "execution_count": 3,
   "id": "056facde",
   "metadata": {},
   "outputs": [],
   "source": [
    "# NON-INTERACTIVE CODE CELL. YOU MAY RUN THIS CELL, BUT DO NOT EDIT IT.\n",
    "# FOR DEMONSTRATION PURPOSES ONLY. DO NOT EDIT.\n",
    "\n",
    "board1 = [\n",
    "['X','X','O'],\n",
    "['O','X','O'],\n",
    "['O','','X'],\n",
    "]\n",
    "\n",
    "board2 = [\n",
    "['X','X','O'],\n",
    "['O','X','O'],\n",
    "['','O','X'],\n",
    "]\n",
    "\n",
    "board3 = [\n",
    "['O','X','O'],\n",
    "['','O','X'],\n",
    "['X','X','O'],\n",
    "]\n",
    "\n",
    "board4 = [\n",
    "['X','X','X'],\n",
    "['O','X','O'],\n",
    "['O','','O'],\n",
    "]\n",
    "\n",
    "board5 = [\n",
    "['X','X','O'],\n",
    "['O','X','O'],\n",
    "['X','','O'],\n",
    "]\n",
    "\n",
    "board6 = [\n",
    "['X','X','O'],\n",
    "['O','X','O'],\n",
    "['X','',''],\n",
    "]\n"
   ]
  },
  {
   "cell_type": "markdown",
   "id": "19032f7b",
   "metadata": {},
   "source": [
    "\n",
    "Write a function called tic_tac_toe that takes one positional argument (list) board. The function should return the winner of the board if there is one, and it should return None if there is no winner on the board.\n",
    "\n",
    "Specifications:\n",
    "\n",
    "Each player is represented by their symbol. Example: if the player using 'X' won the board, then simply return the string 'X'.\n",
    "The board may be 3x3, 4x4, 5x5, or 6x6.\n",
    "The game will only ever be player X vs player O. No other symbols will be used.\n",
    "There may be no winner, and there may be 1 winner, but there will never be a situation where there is more than 1 winner."
   ]
  },
  {
   "cell_type": "code",
   "execution_count": 4,
   "id": "91ef3894",
   "metadata": {},
   "outputs": [],
   "source": [
    "#CODE CELL\n",
    "#PROBLEM 2\n",
    "\n",
    "def tic_tac_toe(board):\n",
    "    win = False\n",
    "    for c in zip(*board):\n",
    "        if len(set(c))==1:\n",
    "            if c[0]!= \"\":\n",
    "                return c[0]\n",
    "            else:\n",
    "                continue\n",
    "            win = True\n",
    "    for r in board:\n",
    "        if len(set(r))==1:\n",
    "            if r[0]!=\"\":\n",
    "                return r[0]\n",
    "            else:\n",
    "                continue\n",
    "            win = True\n",
    "    firstdiag= [board[x][x]for x in range(len(board))]\n",
    "    if len(set(firstdiag))==1:\n",
    "        if board[0][0]==\"\":\n",
    "            win = False\n",
    "        else:\n",
    "            return board[0][0]\n",
    "            win = True\n",
    "    seconddiag= [board[len(board)-1-y][y]for y in range(len(board))]\n",
    "    if len(set(seconddiag))==1:\n",
    "        if board[0][len(board)-1]==\"\":\n",
    "            win=False\n",
    "        else:\n",
    "            return board[0][len(board)-1]\n",
    "            win= True\n",
    "    if not win:\n",
    "        return None\n",
    "tic_tac_toe(board6)"
   ]
  },
  {
   "cell_type": "markdown",
   "id": "58b829b3",
   "metadata": {},
   "source": [
    "Problem 3: Routing (9 points)\n",
    "During the pandemic, a shuttle van service is tasked to travel along a predefined circular route as follows:\n",
    "\n",
    "UP Diliman -> Ateneo de Manila (Estimated Time: 10 mins)\n",
    "Ateneo de Manila -> De La Salle Taft (Estimated Time: 35 mins)\n",
    "De La Salle Taft -> UP Diliman (Estimated Time: 55 mins)\n",
    "The route is one-way only. So, the van cannot go back directly to UP Diliman from Ateneo de Manila; rather, it will have to drop by De La Salle Taft first before going to UP Diliman."
   ]
  },
  {
   "cell_type": "code",
   "execution_count": 5,
   "id": "4955a7a3",
   "metadata": {},
   "outputs": [],
   "source": [
    "# NON-INTERACTIVE CODE CELL. YOU MAY RUN THIS CELL, BUT DO NOT EDIT IT.\n",
    "# FOR DEMONSTRATION PURPOSES ONLY. DO NOT EDIT.\n",
    "\n",
    "legs = {\n",
    "     (\"upd\",\"admu\"):{\n",
    "         \"travel_time_mins\":10\n",
    "     },\n",
    "     (\"admu\",\"dlsu\"):{\n",
    "         \"travel_time_mins\":35\n",
    "     },\n",
    "     (\"dlsu\",\"upd\"):{\n",
    "         \"travel_time_mins\":55\n",
    "     }\n",
    "}"
   ]
  },
  {
   "cell_type": "markdown",
   "id": "5a3cd87e",
   "metadata": {},
   "source": [
    "Write a function called eta that takes three positional arguments: (dict) legs, (str) source, and (str) destination. The function should return the estimated number of minutes it will take to reach the destination from the source based on the data stored in the legs dictionary.\n",
    "\n",
    "Specifications:\n",
    "\n",
    "The legs dictionary adheres to the schema followed in the demo cell.\n",
    "There may be more legs than shown in the demo cell.\n",
    "Any destination can be reached from any source."
   ]
  },
  {
   "cell_type": "code",
   "execution_count": 6,
   "id": "8545141e",
   "metadata": {},
   "outputs": [
    {
     "data": {
      "text/plain": [
       "10"
      ]
     },
     "execution_count": 6,
     "metadata": {},
     "output_type": "execute_result"
    }
   ],
   "source": [
    "# CODE CELL\n",
    "# PROBLEM 3\n",
    "\n",
    "def eta(legs, source, destination):\n",
    "    time=0\n",
    "    start = [route[0] for route in legs]\n",
    "    drop = [route[1] for route in legs]\n",
    "    k= start.index(source)\n",
    "    \n",
    "    time+=list(legs.values())[k][\"travel_time_mins\"]\n",
    "    while True:\n",
    "        if destination == drop[k]:\n",
    "            break\n",
    "        source = drop[k]\n",
    "        time += list(legs.values())[k]['travel_time_mins']\n",
    "    return time\n",
    "        \n",
    "        \n",
    "eta(legs, \"upd\", \"admu\")"
   ]
  },
  {
   "cell_type": "code",
   "execution_count": null,
   "id": "c057b017",
   "metadata": {},
   "outputs": [],
   "source": []
  },
  {
   "cell_type": "code",
   "execution_count": null,
   "id": "3a524f4f",
   "metadata": {},
   "outputs": [],
   "source": []
  }
 ],
 "metadata": {
  "kernelspec": {
   "display_name": "Python 3",
   "language": "python",
   "name": "python3"
  },
  "language_info": {
   "codemirror_mode": {
    "name": "ipython",
    "version": 3
   },
   "file_extension": ".py",
   "mimetype": "text/x-python",
   "name": "python",
   "nbconvert_exporter": "python",
   "pygments_lexer": "ipython3",
   "version": "3.8.8"
  }
 },
 "nbformat": 4,
 "nbformat_minor": 5
}
