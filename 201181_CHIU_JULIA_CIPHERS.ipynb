{
 "cells": [
  {
   "cell_type": "markdown",
   "id": "93b2c4d1",
   "metadata": {},
   "source": [
    "\n",
    "Problem 1\n",
    "Caesar Cipher (6 points)\n",
    "A cipher is a way of disguising a message by encoding it.\n",
    "\n",
    "One of the simplest ciphers is a \"shift cipher\" known as the Caesar cipher. The way it works is very simple.\n",
    "\n",
    "Start with a message, such as \"ATTACK AT DAWN\".\n",
    "Choose a number, such as 3.\n",
    "Shift all letters in the message to the right by the chosen number. In this case, shifting all letters in \"ATTACK AT DAWN\" by 3 results in the message \"DWWDFN DW GDZQ\".\n",
    "Write a function called problem_1 that takes two positional arguments message and shift. It should apply the Caesar cipher to a message and return the result.\n",
    "\n",
    "Example input/output:\n",
    "problem_1(\"ATTACK AT DAWN\", 3) => \"DWWDFN DW GDZQ\"\n",
    "problem_1(\"MEAMORE\", 42) => \"CUQCEHU\"\n",
    "\n",
    "For full credit:\n",
    "\n",
    "The function must ignore spaces.\n",
    "The function must be able to \"wrap around\" if it reaches the end of the alphabet. (e.g., shifting Z by 1 should result in A, shifting Z by 2 should result in B, etc.)\n",
    "For your convenience:\n",
    "\n",
    "Assume that all letters will be uppercase.\n",
    "Be aware of the chr() function. chr() takes an Unicode code number and returns the character associated with that number (e.g., chr(65) => \"A\").\n",
    "Be aware of the ord() function. ord() takes a Unicode character and returns the Unicode code associated with that character (e.g., ord(\"A\") => 65).\n",
    "Be aware that the Unicode codes of the uppercase English alphabet are Unicode codes 65 to 90, where 65 = A, 66 = B, ..., 90 = Z.\n",
    "The shift will always be a positive integer."
   ]
  },
  {
   "cell_type": "code",
   "execution_count": 22,
   "id": "ea368c2d",
   "metadata": {},
   "outputs": [
    {
     "data": {
      "text/plain": [
       "'CUQCEHU'"
      ]
     },
     "execution_count": 22,
     "metadata": {},
     "output_type": "execute_result"
    }
   ],
   "source": [
    "def problem_1(message,shift):\n",
    "    result=\"\"\n",
    "  \n",
    "    for i in message:\n",
    "        if i.isupper():\n",
    "            i_unicode = ord(i)\n",
    "            i_index = ord(i)-ord(\"A\")\n",
    "            new_index = (i_index + shift)% 26\n",
    "            new_unicode = new_index + ord(\"A\")\n",
    "            new_character = chr(new_unicode)\n",
    "            result = result + new_character\n",
    "        else:\n",
    "            result += i\n",
    "    return result\n",
    "\n",
    "problem_1(\"MEAMORE\",42)\n",
    "\n",
    "#source: https://www.tutorialspoint.com/cryptography_with_python/cryptography_with_python_quick_guide.htm"
   ]
  },
  {
   "cell_type": "markdown",
   "id": "4af2d36a",
   "metadata": {},
   "source": [
    "Problem 2\n",
    "Scytale Cipher (8 points)\n",
    "Another ancient cipher (of questionable effectiveness) is the scytale-based cipher. A scytale is a cylinder around which you can wrap a long strip of parchment that contained a string of apparent gibberish. The parchment, when read using the scytale, would reveal a message due to every nth letter now appearing next to each other, revealing a proper message.\n",
    "\n",
    "Sources:\n",
    "\n",
    "https://en.wikipedia.org/wiki/Scytale\n",
    "Here is the algorithm you can use to implement a scytale-style cipher:\n",
    "\n",
    "Encoding\n",
    "\n",
    "Take a message to be encoded and a \"shift\" number. For this example, we will use \"INFORMATION_AGE\" as the message and 3 as the shift.\n",
    "Check if the length of the message is a multiple of the shift. If it is not, add additional underscores to the end of the message until it is. In this example, \"INFORMATION_AGE\" is already a multiple of 3, so we will leave it alone.\n",
    "This is the tricky part. Construct the encoded message. For each index i in the encoded message, use the character at the index (i // shift) + (len(message) // shift) * (i % shift) of the raw message. If this number doesn't make sense, you can play around with the cipher at https://dencode.com/en/cipher/scytale to try to understand it.\n",
    "Return the encoded message. In this case, the output should be \"IMNNA_FTAOIGROE\".\n",
    "Example input/output:\n",
    "problem_2(\"INFORMATION_AGE\", 3) => \"IMNNA_FTAOIGROE\"\n",
    "problem_2(\"INFORMATION_AGE\", 4) => \"IRIANMOGFANEOT__\"\n",
    "problem_2(\"ALGORITHMS_ARE_IMPORTANT\", 8) => \"AOTSRIOALRH_EMRNGIMA_PTT\"\n",
    "\n",
    "Write a function called problem_2 that takes two positional arguments message and shift. It should apply this scytale-style cipher to a message and return the encoded message.\n",
    "\n",
    "For your convenience:\n",
    "\n",
    "A message will only ever contain capital letters and underscores. (Underscores will be used to represent spaces.)\n",
    "The shift will always be a positive integer, and it will never exceed the length of the message.\n",
    "\n"
   ]
  },
  {
   "cell_type": "code",
   "execution_count": 23,
   "id": "39390717",
   "metadata": {},
   "outputs": [
    {
     "data": {
      "text/plain": [
       "'AOTSRIOALRH_EMRNGIMA_PTT'"
      ]
     },
     "execution_count": 23,
     "metadata": {},
     "output_type": "execute_result"
    }
   ],
   "source": [
    "def problem_2 (message, shift):\n",
    "    new = \"\"\n",
    "    counter = 0\n",
    "    while(len(message)%shift)!=0:\n",
    "        message = message + \"_\"\n",
    "    for char in message:\n",
    "        index = (counter // shift) + (len(message)// shift) * (counter % shift)\n",
    "        scytale = message[index]\n",
    "        new = new + scytale\n",
    "        counter +=1\n",
    "    return new\n",
    "\n",
    "problem_2(\"ALGORITHMS_ARE_IMPORTANT\",8)"
   ]
  },
  {
   "cell_type": "markdown",
   "id": "cae30772",
   "metadata": {},
   "source": [
    "\n",
    "Problem 3\n",
    "Vigenere Cipher (8 points)\n",
    "The Caesar cipher is very easy to crack. The Vigenere cipher is an extension to the Caesar cipher that makes it a little more difficult to crack. There are many variations of this cipher, but for the purposes of this exercise, this is how it works:\n",
    "\n",
    "Start with a message, such as \"MY MESSAGE\".\n",
    "Choose a keyphrase, such as \"KEY\".\n",
    "Repeat the keyphrase until it matches the length of the message. In this case, extend \"KEY\" to \"KEYKEYKEYK\". This should yield an implicit 1-1 mapping between letters in the message to letters in the key.\n",
    "Convert all letters in the key to their number values (in this particular case, A => 0, Z => 25, etc.). Shift the letters in the message to the right by the number value of the respective letter in the extended key. In this case, applying the cipher yields the encrypted message \"WC WIQCEEO\".\n",
    "Write a function called problem_3 that takes two positional arguments message and key. It should apply the Vigenere cipher to the message and return the encoded message.\n",
    "\n",
    "Example input/output:\n",
    "problem_3(\"MEAMORE\", \"VINCE\") => \"HMNOSMM\"\n",
    "problem_3(\"FOOBAR IS FUBAR\", \"BUZZ\") => \"GINABL HT ETCUQ\"\n",
    "\n",
    "For full credit:\n",
    "\n",
    "Spaces in the message count as characters and thus count as additional message length for the purposes of key extension, but they are to be ignored when applying the cipher to the message.\n",
    "For your convenience:\n",
    "\n",
    "You are allowed to call your Caesar cipher function.\n",
    "Assume that all letters will be uppercase.\n",
    "Assume that the key will always be the same length or shorter than the message. The key will only ever have uppercase letters (i.e., no spaces).\n",
    "Assume that the message will only ever consist of uppercase letters and spaces."
   ]
  },
  {
   "cell_type": "markdown",
   "id": "1b69ed6c",
   "metadata": {},
   "source": []
  },
  {
   "cell_type": "code",
   "execution_count": 46,
   "id": "95933eaa",
   "metadata": {},
   "outputs": [
    {
     "data": {
      "text/plain": [
       "'GINABL HT ETCUQ'"
      ]
     },
     "execution_count": 46,
     "metadata": {},
     "output_type": "execute_result"
    }
   ],
   "source": [
    "def problem_3 (message,key):\n",
    "    new=\"\"\n",
    "    counter = 0\n",
    "    \n",
    "    if len(message)%len(key)==0:\n",
    "        keycode = (key*(len(message)//len(key)))\n",
    "    elif len(message)%len(key)!= 0:\n",
    "        keycode = (key*(len(message)//len(key)))+key[0:(len(message)%len(key))]\n",
    "   \n",
    "    for char in message:\n",
    "        if char != \" \":\n",
    "            code = ord(char)+(ord(keycode[counter])-65)\n",
    "            if code > 90:\n",
    "                code -=26\n",
    "        else:\n",
    "            code= ord(char)\n",
    "        vigenere = chr(code)\n",
    "        new = new + vigenere\n",
    "        counter += 1\n",
    "    return new\n",
    "problem_3 ('FOOBAR IS FUBAR',\"BUZZ\")"
   ]
  },
  {
   "cell_type": "markdown",
   "id": "cdb122c7",
   "metadata": {},
   "source": [
    "Problem 4¶\n",
    "Scytale De-cipher (8 points)\n",
    "There is no brief for this number.\n",
    "\n",
    "Write a function called problem_4 that takes two positional arguments message and shift. It should decipher a message that is encoded in the scytale-style cipher from Problem 2 and return the decoded message.\n",
    "\n",
    "Example input/output:\n",
    "problem_4(\"IMNNA_FTAOIGROE\", 3) => \"INFORMATION_AGE\"\n",
    "problem_4(\"AOTSRIOALRH_EMRNGIMA_PTT\", 8) => \"ALGORITHMS_ARE_IMPORTANT\"\n",
    "problem_4(\"IRIANMOGFANEOT__\", 4) => \"INFORMATION_AGE_\"\n",
    "\n",
    "For your convenience:\n",
    "\n",
    "Do not trim the added underscores at the end of the message."
   ]
  },
  {
   "cell_type": "code",
   "execution_count": 32,
   "id": "f3303092",
   "metadata": {},
   "outputs": [
    {
     "data": {
      "text/plain": [
       "'INFORMATION_AGE_'"
      ]
     },
     "execution_count": 32,
     "metadata": {},
     "output_type": "execute_result"
    }
   ],
   "source": [
    "def problem_4 (message, shift):\n",
    "    new = \"\"\n",
    "    i = 0\n",
    "\n",
    "    while i< len(message):\n",
    "        j = len(message)/shift\n",
    "        new += message[(int(i%j)*shift)+ int(i//j)]\n",
    "        i+=1\n",
    "    return new\n",
    "problem_4(\"IRIANMOGFANEOT__\",4)"
   ]
  },
  {
   "cell_type": "code",
   "execution_count": null,
   "id": "fba6ca0e",
   "metadata": {},
   "outputs": [],
   "source": []
  }
 ],
 "metadata": {
  "kernelspec": {
   "display_name": "Python 3",
   "language": "python",
   "name": "python3"
  },
  "language_info": {
   "codemirror_mode": {
    "name": "ipython",
    "version": 3
   },
   "file_extension": ".py",
   "mimetype": "text/x-python",
   "name": "python",
   "nbconvert_exporter": "python",
   "pygments_lexer": "ipython3",
   "version": "3.8.8"
  }
 },
 "nbformat": 4,
 "nbformat_minor": 5
}
