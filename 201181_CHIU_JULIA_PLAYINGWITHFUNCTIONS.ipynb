{
 "cells": [
  {
   "cell_type": "markdown",
   "id": "4b8d067c",
   "metadata": {},
   "source": [
    "Problem 1\n",
    "Factorial (1 point)\n",
    "The factorial of a number is the product of that number and all the numbers below it. For example, 5 factorial (denoted 5! in math) is 5 4 3 2 1, which is 120.\n",
    "\n",
    "Write a function called problem_1 that takes one positional argument number. The function should return the factorial of number as an integer.\n",
    "\n",
    "Example input/output:\n",
    "problem_1(5) => 120\n",
    "problem_1(10) => 3628800"
   ]
  },
  {
   "cell_type": "code",
   "execution_count": 90,
   "id": "ae78129e",
   "metadata": {},
   "outputs": [
    {
     "data": {
      "text/plain": [
       "120"
      ]
     },
     "execution_count": 90,
     "metadata": {},
     "output_type": "execute_result"
    }
   ],
   "source": [
    "def problem_1(x):\n",
    "    import math\n",
    "    ans = math.factorial(int(x))\n",
    "    return ans\n",
    "problem_1(5)"
   ]
  },
  {
   "cell_type": "markdown",
   "id": "c7b05894",
   "metadata": {},
   "source": [
    "Problem 2\n",
    "Guessing Game (2 points)\n",
    "Recall that we use input() to ask for user input.\n",
    "\n",
    "Write a function called problem_2 that takes one positional argument passphrase. The function should ask the user to enter the passphrase with input(). If the user enters the correct passphrase, the function should return the integer 1. If the user enters the wrong passphrase, the function should keep asking them for the passphrase. If the user gets the passphrase wrong 3 times, the function should return the integer 0.\n",
    "\n",
    "Example input/output:\n",
    "\n",
    "Function input:\n",
    "problem_2(\"chums\")\n",
    "Simulated user input:\n",
    "joben\n",
    "chums\n",
    "Output:\n",
    "1\n",
    "\n",
    "Function input:\n",
    "problem_2(\"annika\")\n",
    "Simulated user input:\n",
    "joe\n",
    "earl\n",
    "niks\n",
    "Output:\n",
    "0"
   ]
  },
  {
   "cell_type": "code",
   "execution_count": 88,
   "id": "8dcd6d75",
   "metadata": {},
   "outputs": [
    {
     "name": "stdout",
     "output_type": "stream",
     "text": [
      "Enter guessjoe\n",
      "Enter guessearl\n",
      "Enter guessniks\n"
     ]
    },
    {
     "data": {
      "text/plain": [
       "0"
      ]
     },
     "execution_count": 88,
     "metadata": {},
     "output_type": "execute_result"
    }
   ],
   "source": [
    "def problem_2(passphrase):\n",
    "    for i in range (1,4):\n",
    "        x = input('Enter guess')\n",
    "        if x == passphrase:\n",
    "            return(1)\n",
    "        elif x != passphrase:\n",
    "            if i ==3:\n",
    "                return(0)\n",
    "problem_2('chums')"
   ]
  },
  {
   "cell_type": "markdown",
   "id": "d9ef0f0f",
   "metadata": {},
   "source": [
    "Problem 3¶\n",
    "Temperature Converter (3 points)\n",
    "A common beginner's exercise is to write a function that can convert a temperature value from one format, such as Fahrenheit, to another, such as Celsius.\n",
    "\n",
    "In this problem, extend this idea to convert temperatures freely to and from any of the following formats: Celsius, Fahrenheit, and Kelvin.\n",
    "\n",
    "Write a function called problem_3 that takes three positional arguments: (float) temp, (string) original_format, (string) new_format. The function should convert temp, which is represented in original_format, to its equivalent value in the new_format.\n",
    "\n",
    "Example input/output:\n",
    "problem_3(0.0, \"Celsius\", \"Fahrenheit\") => 32.0\n",
    "problem_3(500.0, \"Kelvin\", \"Fahrenheit\") => 440.33\n",
    "problem_3(273.0, \"Kelvin\", \"Celsius\") => 0.0\n",
    "\n",
    "For your convenience:\n",
    "\n",
    "The accuracy of your float outputs will only be evaluated to within 2 decimal places. (In other words: don't worry too much about getting the calculation exactly right.)"
   ]
  },
  {
   "cell_type": "code",
   "execution_count": 91,
   "id": "6d448596",
   "metadata": {},
   "outputs": [
    {
     "data": {
      "text/plain": [
       "440.6"
      ]
     },
     "execution_count": 91,
     "metadata": {},
     "output_type": "execute_result"
    }
   ],
   "source": [
    "def problem_3 (temp, original_format, new_format):\n",
    "    while temp == float(temp):\n",
    "        if (original_format == \"Fahrenheit\")and (new_format == \"Celsius\"):\n",
    "            ans = (temp - 32)*5/9\n",
    "            return ans\n",
    "        elif (original_format == \"Celsius\") and (new_format == \"Fahrenheit\"):\n",
    "            ans = (temp *9/5)+32\n",
    "            return ans\n",
    "        elif (original_format == \"Celsius\") and (new_format == \"Kelvin\"):\n",
    "            ans = temp + 273.0\n",
    "            return ans\n",
    "        elif (original_format == \"Kelvin\") and (new_format == \"Celsius\"):\n",
    "            ans = temp - 273.0\n",
    "        elif (original_format == \"Fahrenheit\") and (new_format == \"Kelvin\"):\n",
    "            ans = (temp - 32) * 5/9 + 273.0\n",
    "            return ans\n",
    "        else:\n",
    "            if (original_format == \"Kelvin\") and (new_format == \"Fahrenheit\"):\n",
    "                ans = (temp -273.0) * 9/5 + 32\n",
    "                return ans\n",
    "problem_3(500.0, \"Kelvin\",\"Fahrenheit\")\n",
    "    "
   ]
  },
  {
   "cell_type": "code",
   "execution_count": null,
   "id": "c7915bd3",
   "metadata": {},
   "outputs": [],
   "source": []
  },
  {
   "cell_type": "markdown",
   "id": "31e82032",
   "metadata": {},
   "source": [
    "Problem 4\n",
    "Exact Change (4 points)\n",
    "Part of a cashier's job is to give exact change to customers. It can be difficult to mentally tally how many coins of each type (i.e., 1 peso, 25 centavos, 10 centavos, etc.) to give to a customer.\n",
    "\n",
    "Write a function called problem_4 that takes 1 positional argument amount in centavos. The function should return a string that describes the appropriate amounts of each type of coin to give to the customer. The string should be formatted as follows:\n",
    "\n",
    "\"1P:{num}/25C:{num}/10C:{num}/5C:{num}/1C:{num}\"\n",
    "\n",
    "Use the fewest number of total coins possible.\n",
    "\n",
    "Example input/output:\n",
    "problem_4(105) => \"1P:1/25C:0/10C:0/5C:1/1C:0\"\n",
    "problem_4(69) => \"1P:0/25C:2/10C:1/5C:1/1C:4\""
   ]
  },
  {
   "cell_type": "code",
   "execution_count": 92,
   "id": "c1a293b0",
   "metadata": {},
   "outputs": [
    {
     "data": {
      "text/plain": [
       "'1P:1/25C:0/10C:0/5C:1/1C:0'"
      ]
     },
     "execution_count": 92,
     "metadata": {},
     "output_type": "execute_result"
    }
   ],
   "source": [
    "def problem_4(amount):\n",
    "    onepeso = int(amount/100)\n",
    "    twentyfivecent = int((amount- (onepeso*100))/25)\n",
    "    tencent = int((amount -(onepeso*100)-(twentyfivecent*25))/10)\n",
    "    fivecent = int ((amount - (onepeso*100)-(twentyfivecent*25)-(tencent*10))/5)\n",
    "    onecent = int (amount -(onepeso*100)- (twentyfivecent*25)- (tencent*10)-(fivecent*5))\n",
    "    return f\"1P:{onepeso}/25C:{twentyfivecent}/10C:{tencent}/5C:{fivecent}/1C:{onecent}\"\n",
    "\n",
    "problem_4(105)"
   ]
  },
  {
   "cell_type": "markdown",
   "id": "7caf7b4d",
   "metadata": {},
   "source": [
    "Problem 5\n",
    "Invert Capitalization (3 points)\n",
    "Write a function called problem_5 that takes 1 positional argument (string) message. The function should return a string whose uppercase letters are now lowercase and whose lowercase letters are now uppercase. Spaces should be left alone.\n",
    "\n",
    "Example input/output:\n",
    "problem_5(\"Test Me\") => \"tEST mE\"\n",
    "problem_5(\"asSiGnmENt\") => \"ASsIgNMenT\"\n",
    "\n",
    "For your convenience:\n",
    "\n",
    "The message will only ever consist of spaces, lowercase letters, and uppercase letters.\n",
    "Hint: Research on ord() and chr()."
   ]
  },
  {
   "cell_type": "code",
   "execution_count": 86,
   "id": "daeceef5",
   "metadata": {},
   "outputs": [
    {
     "data": {
      "text/plain": [
       "'TESt Me'"
      ]
     },
     "execution_count": 86,
     "metadata": {},
     "output_type": "execute_result"
    }
   ],
   "source": [
    "def problem_5(message):\n",
    "    mssg=\"\"\n",
    "    x=0\n",
    "    while (x<len(message)):\n",
    "        if (message[x]>='a'and message[x]<= 'z'):\n",
    "            mssg = mssg + chr((ord(message[x])-32))\n",
    "        elif message[x]>='A'and message[x]<= 'Z':\n",
    "            mssg = mssg + chr((ord(message[x])+32))\n",
    "        else:\n",
    "            mssg = mssg + message[x]\n",
    "        x=x+1\n",
    "    return mssg\n",
    "\n",
    "problem_5(\"tesT mE\")"
   ]
  },
  {
   "cell_type": "markdown",
   "id": "1fd0c2a8",
   "metadata": {},
   "source": [
    "Source: https://www.geeksforgeeks.org/convert-alternate-characters-string-upper-case/\n"
   ]
  },
  {
   "cell_type": "code",
   "execution_count": null,
   "id": "c67650f5",
   "metadata": {},
   "outputs": [],
   "source": []
  }
 ],
 "metadata": {
  "kernelspec": {
   "display_name": "Python 3",
   "language": "python",
   "name": "python3"
  },
  "language_info": {
   "codemirror_mode": {
    "name": "ipython",
    "version": 3
   },
   "file_extension": ".py",
   "mimetype": "text/x-python",
   "name": "python",
   "nbconvert_exporter": "python",
   "pygments_lexer": "ipython3",
   "version": "3.8.8"
  }
 },
 "nbformat": 4,
 "nbformat_minor": 5
}
