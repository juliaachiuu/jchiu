{
 "cells": [
  {
   "cell_type": "code",
   "execution_count": 1,
   "id": "831b70ec",
   "metadata": {},
   "outputs": [],
   "source": [
    "# NON-INTERACTIVE CODE CELL. YOU MAY RUN THIS CELL, BUT DO NOT EDIT IT.\n",
    "# FOR DEMONSTRATION PURPOSES ONLY. DO NOT EDIT.\n",
    "\n",
    "social_graph = {\n",
    "    \"@bongolpoc\":{\"first_name\":\"Joselito\",\n",
    "                  \"last_name\":\"Olpoc\",\n",
    "                  \"following\":[\n",
    "                  ]\n",
    "    },\n",
    "    \"@joaquin\":  {\"first_name\":\"Joaquin\",\n",
    "                  \"last_name\":\"Gonzales\",\n",
    "                  \"following\":[\n",
    "                      \"@chums\",\"@jobenilagan\"\n",
    "                  ]\n",
    "    },\n",
    "    \"@chums\" : {\"first_name\":\"Matthew\",\n",
    "                \"last_name\":\"Uy\",\n",
    "                \"following\":[\n",
    "                    \"@bongolpoc\",\"@miketan\",\"@rudyang\",\"@joeilagan\"\n",
    "                ]\n",
    "    },\n",
    "    \"@jobenilagan\":{\"first_name\":\"Joben\",\n",
    "                   \"last_name\":\"Ilagan\",\n",
    "                   \"following\":[\n",
    "                    \"@eeebeee\",\"@joeilagan\",\"@chums\",\"@joaquin\"\n",
    "                   ]\n",
    "    },\n",
    "    \"@joeilagan\":{\"first_name\":\"Joe\",\n",
    "                  \"last_name\":\"Ilagan\",\n",
    "                  \"following\":[\n",
    "                    \"@eeebeee\",\"@jobenilagan\",\"@chums\"\n",
    "                  ]\n",
    "    },\n",
    "    \"@eeebeee\":  {\"first_name\":\"Elizabeth\",\n",
    "                  \"last_name\":\"Ilagan\",\n",
    "                  \"following\":[\n",
    "                    \"@jobenilagan\",\"@joeilagan\"\n",
    "                  ]\n",
    "    },\n",
    "}"
   ]
  },
  {
   "cell_type": "code",
   "execution_count": 2,
   "id": "a3437f76",
   "metadata": {},
   "outputs": [
    {
     "name": "stdout",
     "output_type": "stream",
     "text": [
      "friends\n"
     ]
    }
   ],
   "source": [
    "# CODE CELL\n",
    "# PROBLEM 1\n",
    "\n",
    "def relationship_status(from_member, to_member, social_graph):\n",
    "    if from_member in social_graph[to_member][\"following\"] and to_member in social_graph[from_member][\"following\"]:\n",
    "        return 'friends'\n",
    "    elif from_member in social_graph[to_member][\"following\"]:\n",
    "        return \"followed by\"\n",
    "    elif to_member in social_graph[from_member][\"following\"]:\n",
    "        return \"follower\"\n",
    "    else:\n",
    "        return None\n",
    "print(relationship_status('@jobenilagan','@joeilagan',social_graph))"
   ]
  },
  {
   "cell_type": "code",
   "execution_count": 3,
   "id": "1921668a",
   "metadata": {},
   "outputs": [],
   "source": [
    "# NON-INTERACTIVE CODE CELL. YOU MAY RUN THIS CELL, BUT DO NOT EDIT IT.\n",
    "# FOR DEMONSTRATION PURPOSES ONLY. DO NOT EDIT.\n",
    "\n",
    "board1 = [\n",
    "['X','X','O'],\n",
    "['O','X','O'],\n",
    "['O','','X'],\n",
    "]\n",
    "\n",
    "board2 = [\n",
    "['X','X','O'],\n",
    "['O','X','O'],\n",
    "['','O','X'],\n",
    "]\n",
    "\n",
    "board3 = [\n",
    "['O','X','O'],\n",
    "['','O','X'],\n",
    "['X','X','O'],\n",
    "]\n",
    "\n",
    "board4 = [\n",
    "['X','X','X'],\n",
    "['O','X','O'],\n",
    "['O','','O'],\n",
    "]\n",
    "\n",
    "board5 = [\n",
    "['X','X','O'],\n",
    "['O','X','O'],\n",
    "['X','','O'],\n",
    "]\n",
    "\n",
    "board6 = [\n",
    "['X','X','O'],\n",
    "['O','X','O'],\n",
    "['X','',''],\n",
    "]\n"
   ]
  },
  {
   "cell_type": "code",
   "execution_count": 4,
   "id": "49e27583",
   "metadata": {},
   "outputs": [],
   "source": [
    "#CODE CELL\n",
    "#PROBLEM 2\n",
    "\n",
    "def tic_tac_toe(board):\n",
    "    win = False\n",
    "    for c in zip(*board):\n",
    "        if len(set(c))==1:\n",
    "            if c[0]!= \"\":\n",
    "                return c[0]\n",
    "            else:\n",
    "                continue\n",
    "            win = True\n",
    "    for r in board:\n",
    "        if len(set(r))==1:\n",
    "            if r[0]!=\"\":\n",
    "                return r[0]\n",
    "            else:\n",
    "                continue\n",
    "            win = True\n",
    "    firstdiag= [board[x][x]for x in range(len(board))]\n",
    "    if len(set(firstdiag))==1:\n",
    "        if board[0][0]==\"\":\n",
    "            win = False\n",
    "        else:\n",
    "            return board[0][0]\n",
    "            win = True\n",
    "    seconddiag= [board[len(board)-1-y][y]for y in range(len(board))]\n",
    "    if len(set(seconddiag))==1:\n",
    "        if board[0][len(board)-1]==\"\":\n",
    "            win=False\n",
    "        else:\n",
    "            return board[0][len(board)-1]\n",
    "            win= True\n",
    "    if not win:\n",
    "        return None\n",
    "tic_tac_toe(board6)"
   ]
  },
  {
   "cell_type": "code",
   "execution_count": 5,
   "id": "b17099ef",
   "metadata": {},
   "outputs": [],
   "source": [
    "# NON-INTERACTIVE CODE CELL. YOU MAY RUN THIS CELL, BUT DO NOT EDIT IT.\n",
    "# FOR DEMONSTRATION PURPOSES ONLY. DO NOT EDIT.\n",
    "\n",
    "legs = {\n",
    "     (\"upd\",\"admu\"):{\n",
    "         \"travel_time_mins\":10\n",
    "     },\n",
    "     (\"admu\",\"dlsu\"):{\n",
    "         \"travel_time_mins\":35\n",
    "     },\n",
    "     (\"dlsu\",\"upd\"):{\n",
    "         \"travel_time_mins\":55\n",
    "     }\n",
    "}"
   ]
  },
  {
   "cell_type": "code",
   "execution_count": 9,
   "id": "4ff29b58",
   "metadata": {},
   "outputs": [
    {
     "data": {
      "text/plain": [
       "45"
      ]
     },
     "execution_count": 9,
     "metadata": {},
     "output_type": "execute_result"
    }
   ],
   "source": [
    "# CODE CELL\n",
    "# PROBLEM 3\n",
    "\n",
    "def eta(legs, source, destination): \n",
    "    mins = 0 \n",
    "    start = [route[0] for route in legs]\n",
    "    drop = [route[1] for route in legs]\n",
    "    \n",
    "    mins += list(legs.values())[start.index(source)]['travel_time_mins']\n",
    "    \n",
    "    while True: \n",
    "        if destination == drop[start.index(source)]: \n",
    "            break\n",
    "        source = drop[start.index(source)]\n",
    "        mins += list(legs.values())[start.index(source)]['travel_time_mins']\n",
    "    return mins\n",
    "    \n",
    "eta(legs,\"upd\",\"dlsu\")"
   ]
  },
  {
   "cell_type": "code",
   "execution_count": null,
   "id": "00b3031d",
   "metadata": {},
   "outputs": [],
   "source": []
  }
 ],
 "metadata": {
  "kernelspec": {
   "display_name": "Python 3",
   "language": "python",
   "name": "python3"
  },
  "language_info": {
   "codemirror_mode": {
    "name": "ipython",
    "version": 3
   },
   "file_extension": ".py",
   "mimetype": "text/x-python",
   "name": "python",
   "nbconvert_exporter": "python",
   "pygments_lexer": "ipython3",
   "version": "3.8.8"
  }
 },
 "nbformat": 4,
 "nbformat_minor": 5
}
